{
  "nbformat": 4,
  "nbformat_minor": 0,
  "metadata": {
    "colab": {
      "provenance": [],
      "authorship_tag": "ABX9TyOgOw7uVIRa1Gak45gZvucK",
      "include_colab_link": true
    },
    "kernelspec": {
      "name": "python3",
      "display_name": "Python 3"
    },
    "language_info": {
      "name": "python"
    }
  },
  "cells": [
    {
      "cell_type": "markdown",
      "metadata": {
        "id": "view-in-github",
        "colab_type": "text"
      },
      "source": [
        "<a href=\"https://colab.research.google.com/github/DavideDipace/python/blob/main/Untitled0.ipynb\" target=\"_parent\"><img src=\"https://colab.research.google.com/assets/colab-badge.svg\" alt=\"Open In Colab\"/></a>"
      ]
    },
    {
      "cell_type": "code",
      "execution_count": null,
      "metadata": {
        "id": "eOgIwV1bBBBY"
      },
      "outputs": [],
      "source": [
        "print(\"hello word!\") "
      ]
    },
    {
      "cell_type": "code",
      "source": [
        "a = 10 \n",
        "b = 20\n",
        "c = 10.5 \n",
        "print(a,b,c) "
      ],
      "metadata": {
        "id": "QW3hspTKEv7n"
      },
      "execution_count": null,
      "outputs": []
    },
    {
      "cell_type": "code",
      "source": [
        "somma = a + b\n",
        "sottrazione = a - b\n",
        "moltiplicazione = a * b\n",
        "divisione = a / b\n",
        "print(somma,sottrazione,moltiplicazione,divisione) "
      ],
      "metadata": {
        "id": "6ozi5GsQFCw_"
      },
      "execution_count": null,
      "outputs": []
    },
    {
      "cell_type": "code",
      "source": [
        "# inserimento dei dati \n",
        "\n",
        "peso = input(\"inserisci il tuo peso: \")\n",
        "altezza = input(\"inserisci la tua altezza: \")\n",
        "imc = float(peso) / (float(altezza) * float(altezza))\n",
        "if imc>25: \n",
        "  print(\"sei sovrappeso\")\n",
        "elif imc<18: \n",
        "  print(\"sei sottopeso\")\n",
        "else:\n",
        "  print(\"sei normopeso \")\n",
        "\n",
        "\n",
        "\n",
        "\n",
        "print(\"il tuo indice di massa corporea è\" , imc)\n"
      ],
      "metadata": {
        "id": "bsIUrun9Fu9n"
      },
      "execution_count": null,
      "outputs": []
    },
    {
      "cell_type": "code",
      "source": [
        "# scrivere un programma che calcoli le tasse da pagare.\n",
        "# se il reddito è inferiore a 30mula euro si paga il 15%\n",
        "# se il reddito è comopreso tra 30 mila e 60 mila si paga il 20%\n",
        "# se il reddito è maggiore di 60 mila si paga il 30 %\n",
        "\n",
        "reddito = int(input(\"inserisci il tuo reddito:\"))\n",
        "if reddito<30000: \n",
        "  print(\"pagherai il 15%\")\n",
        "elif reddito>60000:\n",
        "  print(\"pagherai il 30%\")\n",
        "else:\n",
        "    print(\"pagherai il 20%\")\n"
      ],
      "metadata": {
        "id": "CO1rb6uvOVPO"
      },
      "execution_count": null,
      "outputs": []
    },
    {
      "cell_type": "code",
      "source": [
        "# un negozio vuole incentivare gli acquisti applicando sconti maggiori a chi spende di più se un cliente spende fino a 100 euro viene fatto uno sconte del 15% \n",
        "# se spende da 100 a 200 euro lo sconto sarà del 20%\n",
        "# se spende da 200 a 300 euro lo sconto sarà del 40%\n",
        "# se spende oltre 400 euro lo sconto sarà del 60% \n",
        "# scrivere un programma che dato il totale dell' acquisto calcola il prezzo finale che il cliente deve pagare\n",
        "\n",
        "spesa = int(input(\"inserisci la tua spesa:\"))\n",
        "if spesa == 100 or spesa < 200:\n",
        "  calcolospesa = (spesa * 20) / 100\n",
        "  print(\"i soldi scalati sono dalla spesa sono:\",calcolospesa)\n",
        "\n",
        "elif spesa == 201 or spesa < 300 :\n",
        "  calcolospesa2 = (spesa * 40) / 100\n",
        "  print(\"i soldi scalati sono dalla spesa sono:\",calcolospesa2 )\n",
        "\n",
        "elif spesa>400:\n",
        "  calcolospesa3 = (spesa * 60) / 100 \n",
        "  print(\"i soldi scalati sono dalla spesa sono:\",calcolospesa3)\n",
        "\n",
        "\n",
        " "
      ],
      "metadata": {
        "id": "QWwzv9MTP57-"
      },
      "execution_count": null,
      "outputs": []
    }
  ]
}