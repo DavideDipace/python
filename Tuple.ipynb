{
  "nbformat": 4,
  "nbformat_minor": 0,
  "metadata": {
    "colab": {
      "provenance": [],
      "authorship_tag": "ABX9TyPfI+eUxhlNiOYtZ6086fDZ",
      "include_colab_link": true
    },
    "kernelspec": {
      "name": "python3",
      "display_name": "Python 3"
    },
    "language_info": {
      "name": "python"
    }
  },
  "cells": [
    {
      "cell_type": "markdown",
      "metadata": {
        "id": "view-in-github",
        "colab_type": "text"
      },
      "source": [
        "<a href=\"https://colab.research.google.com/github/DavideDipace/python/blob/main/Tuple.ipynb\" target=\"_parent\"><img src=\"https://colab.research.google.com/assets/colab-badge.svg\" alt=\"Open In Colab\"/></a>"
      ]
    },
    {
      "cell_type": "markdown",
      "source": [
        "spiegazione tuple"
      ],
      "metadata": {
        "id": "FbUA9vIIOLj2"
      }
    },
    {
      "cell_type": "markdown",
      "source": [
        "LE STRUTTURE **TUPLE** SONO DEI CONTENITORI COME LA LISTA MA NON VARIABILE UNA VOLTA MESSO IL CONTENUTO NON SI PUò CAMBIARE\n",
        "TUPLA1 = (CONTENUTO)\n",
        "LE VARIABILI VENGONO SEPARATE TRAMITE UNA VIRGOLA\n",
        "GLI ELEMENTI SONO ORDINATI E NON SI POSSONO MODIFICARE LE INFORMAZIONI AL SUO INTERNO ESEMPIO NON SI POSSONO AGGIUNGERE O TOGLIERE DEI DATI.\n",
        "PER INSERIRE UN ELEMENTO SERVE UNA VIRGOLA ALLA FINE DELLA FRASE ALL'INTERNO DELLA LISTA.\n",
        "ESEMPIO:\n",
        "TUPLA2 = (\"TESTO\",)\n",
        "può tenere qualsiasi tipo di dato\n",
        "si può usare anche la funzione tuple per trasformare la lista in una tuple\n"
      ],
      "metadata": {
        "id": "Brce6nw0Oikz"
      }
    },
    {
      "cell_type": "code",
      "execution_count": null,
      "metadata": {
        "colab": {
          "base_uri": "https://localhost:8080/"
        },
        "id": "qc7WJr1lOG2n",
        "outputId": "fdfd8b16-b9e7-440c-90bd-fbc08b984c08"
      },
      "outputs": [
        {
          "output_type": "stream",
          "name": "stdout",
          "text": [
            "testo\n"
          ]
        }
      ],
      "source": [
        "tupla1 = (\"testo\",)\n",
        "print(type(tupla1))"
      ]
    },
    {
      "cell_type": "code",
      "source": [
        "prova=tuple([\"ciao\",12])\n",
        "print(type(prova))"
      ],
      "metadata": {
        "colab": {
          "base_uri": "https://localhost:8080/"
        },
        "id": "onLRj_BRRTb0",
        "outputId": "60efc91b-991a-4ca1-af22-e2723fdcd884"
      },
      "execution_count": null,
      "outputs": [
        {
          "output_type": "stream",
          "name": "stdout",
          "text": [
            "<class 'tuple'>\n"
          ]
        }
      ]
    },
    {
      "cell_type": "markdown",
      "source": [
        "se creo una lista normale e converto in tupla e volessi aggiungere un elemento nella lista normale non modificata in tupla questa non cambia\n",
        "non può avere la list comprenshion\n",
        "nella random.sample mettiamo prima i numeri che ci servono eempio numeri da 1 a 100 e poi quanti numeri ci servono in questo caso 20\n"
      ],
      "metadata": {
        "id": "Q-zVb6bFR1o7"
      }
    },
    {
      "cell_type": "code",
      "source": [
        "import random\n",
        "lista0 = tuple(random.sample(range(1,100),20))\n",
        "print(lista0)\n",
        "print(type(lista0))"
      ],
      "metadata": {
        "colab": {
          "base_uri": "https://localhost:8080/"
        },
        "id": "wMQ7LGcFS5nE",
        "outputId": "33bfabfd-19e2-4ea1-87ec-1f367c4f3c7b"
      },
      "execution_count": null,
      "outputs": [
        {
          "output_type": "stream",
          "name": "stdout",
          "text": [
            "(98, 46, 47, 70, 40, 80, 94, 96, 28, 31, 30, 91, 12, 69, 42, 2, 51, 67, 27, 97)\n",
            "<class 'tuple'>\n"
          ]
        }
      ]
    },
    {
      "cell_type": "markdown",
      "source": [
        "aggiungi i primi 3 cognomi del registro in posizione 1 al precendente vettore"
      ],
      "metadata": {
        "id": "KXPNdq0HU2E0"
      }
    },
    {
      "cell_type": "code",
      "source": [
        "#non si può fare\n",
        "tupla0 = list(lista0)\n",
        "tupla0[0:0] = ['avasiloae','bernasconi','cottone']\n",
        "print(tupla0)\n",
        "tupla0 = tuple(tupla0)\n",
        "print(type(tupla0))"
      ],
      "metadata": {
        "colab": {
          "base_uri": "https://localhost:8080/"
        },
        "id": "0oJMxAUsU-eL",
        "outputId": "82c67a50-5596-477e-a710-2df20aff2ba1"
      },
      "execution_count": null,
      "outputs": [
        {
          "output_type": "stream",
          "name": "stdout",
          "text": [
            "['avasiloae', 'bernasconi', 'cottone', 98, 46, 47, 70, 40, 80, 94, 96, 28, 31, 30, 91, 12, 69, 42, 2, 51, 67, 27, 97]\n",
            "<class 'tuple'>\n"
          ]
        }
      ]
    }
  ]
}