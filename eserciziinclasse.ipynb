{
  "nbformat": 4,
  "nbformat_minor": 0,
  "metadata": {
    "colab": {
      "provenance": [],
      "collapsed_sections": [],
      "authorship_tag": "ABX9TyOBiWDri8pEURqUQFv3+S5U",
      "include_colab_link": true
    },
    "kernelspec": {
      "name": "python3",
      "display_name": "Python 3"
    },
    "language_info": {
      "name": "python"
    }
  },
  "cells": [
    {
      "cell_type": "markdown",
      "metadata": {
        "id": "view-in-github",
        "colab_type": "text"
      },
      "source": [
        "<a href=\"https://colab.research.google.com/github/DavideDipace/python/blob/main/eserciziinclasse.ipynb\" target=\"_parent\"><img src=\"https://colab.research.google.com/assets/colab-badge.svg\" alt=\"Open In Colab\"/></a>"
      ]
    },
    {
      "cell_type": "markdown",
      "source": [
        "1. si vogliono memorizzare i valori del cambio tra euro e dollaro negli ultimi 15 giorni\n",
        "2. trovare il giono in cui il dollaro valeva di più\n",
        "3. trovare quanto valeva il dollaro una swettimana fa \n",
        "4. trovare i valori del dollaro nel periodo compreso tra 10 giorni fa e 5 giorni fa "
      ],
      "metadata": {
        "id": "2X0nzsT9x07C"
      }
    },
    {
      "cell_type": "code",
      "execution_count": null,
      "metadata": {
        "colab": {
          "base_uri": "https://localhost:8080/"
        },
        "id": "0a7euAGExxBS",
        "outputId": "1c403b06-f993-4466-811c-ce71adcaf238"
      },
      "outputs": [
        {
          "output_type": "stream",
          "name": "stdout",
          "text": [
            "7 7\n"
          ]
        }
      ],
      "source": [
        "cambioED = [0.9863,0.9766,0.9778,0.9861,0.9858,0.9857,0.9828]\n",
        "Giorni = [\"14/10\",\"15/10\",\"16/10\",\"17/10\",\"18/10\",\"19/10\",\"20/10\",\"21/10\",\"22/10\",\"23/10\",\"24/10\"]\n",
        "print(len(cambioED), len(Giorni))"
      ]
    },
    {
      "cell_type": "code",
      "source": [
        "print(Giorni[cambioED.index(max(cambioED))])"
      ],
      "metadata": {
        "colab": {
          "base_uri": "https://localhost:8080/"
        },
        "id": "oqg2Nzmpyq2p",
        "outputId": "ca2c0df0-1881-4610-a1de-ab07c30deef4"
      },
      "execution_count": null,
      "outputs": [
        {
          "output_type": "stream",
          "name": "stdout",
          "text": [
            "18/10\n"
          ]
        }
      ]
    },
    {
      "cell_type": "code",
      "source": [
        "print(cambioED[Giorni.index(\"18/10\")])"
      ],
      "metadata": {
        "colab": {
          "base_uri": "https://localhost:8080/"
        },
        "id": "I-cjGEc0yrGR",
        "outputId": "d6803e8a-7f2d-4d9e-82b9-80aa5a050c3a"
      },
      "execution_count": null,
      "outputs": [
        {
          "output_type": "stream",
          "name": "stdout",
          "text": [
            "0.9863\n"
          ]
        }
      ]
    },
    {
      "cell_type": "code",
      "source": [],
      "metadata": {
        "id": "0XJvMqMfyrXh"
      },
      "execution_count": null,
      "outputs": []
    }
  ]
}