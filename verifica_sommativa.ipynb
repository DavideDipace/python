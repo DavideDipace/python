{
  "nbformat": 4,
  "nbformat_minor": 0,
  "metadata": {
    "colab": {
      "provenance": [],
      "authorship_tag": "ABX9TyMdlCxariRE9Q2SogQ+3vwv",
      "include_colab_link": true
    },
    "kernelspec": {
      "name": "python3",
      "display_name": "Python 3"
    },
    "language_info": {
      "name": "python"
    }
  },
  "cells": [
    {
      "cell_type": "markdown",
      "metadata": {
        "id": "view-in-github",
        "colab_type": "text"
      },
      "source": [
        "<a href=\"https://colab.research.google.com/github/DavideDipace/python/blob/main/verifica_sommativa.ipynb\" target=\"_parent\"><img src=\"https://colab.research.google.com/assets/colab-badge.svg\" alt=\"Open In Colab\"/></a>"
      ]
    },
    {
      "cell_type": "markdown",
      "source": [
        "1)caricare in strutture dati opportune i valori della temperatura e delle probabilità di precipitazione del 6 ottobre nel corso della gionata"
      ],
      "metadata": {
        "id": "qDO8Z9QF3HfZ"
      }
    },
    {
      "cell_type": "code",
      "source": [
        "h = 1,2,3,4,5,6,7,8,9,10,11,12,13,14,15,16,17,18,19,20,21,22,23,24\n",
        "T = 11,11,10,9,11,12,12,12,13,14,15,17,19,21,24,24,24,22,20,18,16,14,12,11\n",
        "P = 90,90,90,70,70,30,30,10,10,0,0,0,0,0,0,0,0,0,0,5,10,15,20,25\n",
        "print(h)\n",
        "print(T)\n",
        "print(P)"
      ],
      "metadata": {
        "id": "BRMNF6sr4raR"
      },
      "execution_count": null,
      "outputs": []
    },
    {
      "cell_type": "markdown",
      "source": [
        "2)visualizzare la temperatura e la probabilità di precipitazione alle ore 18"
      ],
      "metadata": {
        "id": "OezIh23J6ajD"
      }
    },
    {
      "cell_type": "code",
      "source": [
        "print(h[17])\n",
        "print(T[17])\n",
        "print(P[17])"
      ],
      "metadata": {
        "colab": {
          "base_uri": "https://localhost:8080/"
        },
        "id": "59E7Z_vl6TVh",
        "outputId": "b75beb5a-b0c7-40bc-f294-9125994c1c13"
      },
      "execution_count": null,
      "outputs": [
        {
          "output_type": "stream",
          "name": "stdout",
          "text": [
            "18\n",
            "22\n",
            "0\n"
          ]
        }
      ]
    },
    {
      "cell_type": "markdown",
      "source": [
        "3) visualizzare la temperatura e le probabilità di precipitazione dalle 10 alle 18 (estremi compresi)"
      ],
      "metadata": {
        "id": "zRX-z8p_7K7Z"
      }
    },
    {
      "cell_type": "code",
      "source": [
        "print(h[9:18])\n",
        "print(T[9:18])\n",
        "print(P[9:18])"
      ],
      "metadata": {
        "colab": {
          "base_uri": "https://localhost:8080/"
        },
        "id": "5uV_NVnh7P0B",
        "outputId": "aee0283e-eca5-4fbe-ccdf-89e3b10fd693"
      },
      "execution_count": null,
      "outputs": [
        {
          "output_type": "stream",
          "name": "stdout",
          "text": [
            "(10, 11, 12, 13, 14, 15, 16, 17, 18)\n",
            "(14, 15, 17, 19, 21, 24, 24, 24, 22)\n",
            "(0, 0, 0, 0, 0, 0, 0, 0, 0)\n"
          ]
        }
      ]
    },
    {
      "cell_type": "markdown",
      "source": [
        "4) visualizzare la temperatura e la probabilità di precipitazione dalle ore 12 a fine gionata"
      ],
      "metadata": {
        "id": "jGbHL5rM7s1Q"
      }
    },
    {
      "cell_type": "code",
      "source": [
        "print(h[11:])\n",
        "print(T[11:])\n",
        "print(P[11:])"
      ],
      "metadata": {
        "colab": {
          "base_uri": "https://localhost:8080/"
        },
        "id": "eSI5mgMB7seQ",
        "outputId": "0a9805f5-7044-4ac4-fb61-49f4b0dd7f66"
      },
      "execution_count": null,
      "outputs": [
        {
          "output_type": "stream",
          "name": "stdout",
          "text": [
            "(12, 13, 14, 15, 16, 17, 18, 19, 20, 21, 22, 23, 24)\n",
            "(17, 19, 21, 24, 24, 24, 22, 20, 18, 16, 14, 12, 11)\n",
            "(0, 0, 0, 0, 0, 0, 0, 0, 5, 10, 15, 20, 25)\n"
          ]
        }
      ]
    },
    {
      "cell_type": "markdown",
      "source": [
        "5) visualizzare la temperatura e la probabilità di precipitazione dall' inizio della giornata fino alle 14 compresa"
      ],
      "metadata": {
        "id": "unTCNhs-7_Ky"
      }
    },
    {
      "cell_type": "code",
      "source": [
        "print(h[:14])\n",
        "print(T[:14])\n",
        "print(P[:14])\n"
      ],
      "metadata": {
        "colab": {
          "base_uri": "https://localhost:8080/"
        },
        "id": "jHRrO0CN8AiC",
        "outputId": "9fa70036-7537-4034-a450-d14d45eebbcd"
      },
      "execution_count": null,
      "outputs": [
        {
          "output_type": "stream",
          "name": "stdout",
          "text": [
            "(1, 2, 3, 4, 5, 6, 7, 8, 9, 10, 11, 12, 13, 14)\n",
            "(11, 11, 10, 9, 11, 12, 12, 12, 13, 14, 15, 17, 19, 21)\n",
            "(90, 90, 90, 70, 70, 30, 30, 10, 10, 0, 0, 0, 0, 0)\n"
          ]
        }
      ]
    },
    {
      "cell_type": "markdown",
      "source": [
        "6) visualizzare la temperatura ogni 2 ore a partire dalle 4 del mattino"
      ],
      "metadata": {
        "id": "ohcM2emd8UuR"
      }
    },
    {
      "cell_type": "code",
      "source": [
        "print(h[3::2])\n",
        "print(T[3::2])\n",
        "print(P[3::2])"
      ],
      "metadata": {
        "colab": {
          "base_uri": "https://localhost:8080/"
        },
        "id": "-dCCUu-W8Yqk",
        "outputId": "83331abe-f052-4997-ab6d-14fc7803d7fa"
      },
      "execution_count": null,
      "outputs": [
        {
          "output_type": "stream",
          "name": "stdout",
          "text": [
            "(4, 6, 8, 10, 12, 14, 16, 18, 20, 22, 24)\n",
            "(9, 12, 12, 14, 17, 21, 24, 22, 18, 14, 11)\n",
            "(70, 30, 10, 0, 0, 0, 0, 0, 5, 15, 25)\n"
          ]
        }
      ]
    },
    {
      "cell_type": "markdown",
      "source": [
        "7) visualizzare il valore di temperatura più alta della giornata "
      ],
      "metadata": {
        "id": "17P47xD18kgs"
      }
    },
    {
      "cell_type": "code",
      "source": [
        "max_temperatura = max(T)\n",
        "print(max_temperatura)"
      ],
      "metadata": {
        "colab": {
          "base_uri": "https://localhost:8080/"
        },
        "id": "cthb-vaT8tCA",
        "outputId": "e72ccadb-1199-465d-b6fd-f7dff4711965"
      },
      "execution_count": null,
      "outputs": [
        {
          "output_type": "stream",
          "name": "stdout",
          "text": [
            "24\n"
          ]
        }
      ]
    },
    {
      "cell_type": "markdown",
      "source": [
        "8) visualizzare le probabilità di precipitazione media della giornata\n"
      ],
      "metadata": {
        "id": "iHO87Ais9IDg"
      }
    },
    {
      "cell_type": "code",
      "source": [
        "from numpy import mean\n",
        "media_giornata = mean(P)\n",
        "print(media_giornata)"
      ],
      "metadata": {
        "id": "NvNzhzXI9W4R"
      },
      "execution_count": null,
      "outputs": []
    },
    {
      "cell_type": "markdown",
      "source": [
        "9) visualizzare le ore in cui è rilavata la temperatura più alta "
      ],
      "metadata": {
        "id": "tzuxp4Fp9jUv"
      }
    },
    {
      "cell_type": "code",
      "source": [],
      "metadata": {
        "id": "yz6noD579uZI"
      },
      "execution_count": null,
      "outputs": []
    },
    {
      "cell_type": "markdown",
      "source": [
        "10) modificare il dato relativa alla temperatura delle ore 16 : non era 24 °C ma 25 °C "
      ],
      "metadata": {
        "id": "tGAHXxWV-7NR"
      }
    },
    {
      "cell_type": "code",
      "source": [],
      "metadata": {
        "id": "GPtvWRi6_KhI"
      },
      "execution_count": null,
      "outputs": []
    },
    {
      "cell_type": "markdown",
      "source": [
        "11) visualizzare temperatura e precipitazioni a partire dalle 24 all'1"
      ],
      "metadata": {
        "id": "1o30GvTr_KyQ"
      }
    },
    {
      "cell_type": "code",
      "source": [],
      "metadata": {
        "colab": {
          "base_uri": "https://localhost:8080/",
          "height": 182
        },
        "id": "IDXfYEJB_RpJ",
        "outputId": "bee04735-1d3e-4b73-b28e-06274a28a137"
      },
      "execution_count": null,
      "outputs": [
        {
          "output_type": "error",
          "ename": "AttributeError",
          "evalue": "ignored",
          "traceback": [
            "\u001b[0;31m---------------------------------------------------------------------------\u001b[0m",
            "\u001b[0;31mAttributeError\u001b[0m                            Traceback (most recent call last)",
            "\u001b[0;32m<ipython-input-47-18a3e0792af7>\u001b[0m in \u001b[0;36m<module>\u001b[0;34m\u001b[0m\n\u001b[0;32m----> 1\u001b[0;31m \u001b[0mh\u001b[0m\u001b[0;34m.\u001b[0m\u001b[0mrevesed\u001b[0m\u001b[0;34m\u001b[0m\u001b[0;34m\u001b[0m\u001b[0m\n\u001b[0m\u001b[1;32m      2\u001b[0m \u001b[0mprint\u001b[0m\u001b[0;34m(\u001b[0m\u001b[0mh\u001b[0m\u001b[0;34m)\u001b[0m\u001b[0;34m\u001b[0m\u001b[0;34m\u001b[0m\u001b[0m\n",
            "\u001b[0;31mAttributeError\u001b[0m: 'tuple' object has no attribute 'revesed'"
          ]
        }
      ]
    }
  ]
}