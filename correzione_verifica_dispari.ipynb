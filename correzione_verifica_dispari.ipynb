{
  "nbformat": 4,
  "nbformat_minor": 0,
  "metadata": {
    "colab": {
      "provenance": [],
      "collapsed_sections": [],
      "authorship_tag": "ABX9TyMLU+MYjbVGOTwcrlYhvebg",
      "include_colab_link": true
    },
    "kernelspec": {
      "name": "python3",
      "display_name": "Python 3"
    },
    "language_info": {
      "name": "python"
    }
  },
  "cells": [
    {
      "cell_type": "markdown",
      "metadata": {
        "id": "view-in-github",
        "colab_type": "text"
      },
      "source": [
        "<a href=\"https://colab.research.google.com/github/DavideDipace/python/blob/main/correzione_verifica_dispari.ipynb\" target=\"_parent\"><img src=\"https://colab.research.google.com/assets/colab-badge.svg\" alt=\"Open In Colab\"/></a>"
      ]
    },
    {
      "cell_type": "markdown",
      "source": [
        "caricare con i primi 50 multipli di 5"
      ],
      "metadata": {
        "id": "9zkwJwQGv6F9"
      }
    },
    {
      "cell_type": "code",
      "execution_count": null,
      "metadata": {
        "colab": {
          "base_uri": "https://localhost:8080/"
        },
        "id": "9fF7hvGavUUp",
        "outputId": "ece482f5-fb9e-45a2-b6db-157f218a4d3d"
      },
      "outputs": [
        {
          "output_type": "stream",
          "name": "stdout",
          "text": [
            "[5, 10, 15, 20, 25, 30, 35, 40, 45, 50, 55, 60, 65, 70, 75, 80, 85, 90, 95, 100, 105, 110, 115, 120, 125, 130, 135, 140, 145, 150, 155, 160, 165, 170, 175, 180, 185, 190, 195, 200, 205, 210, 215, 220, 225, 230, 235, 240, 245, 250]\n"
          ]
        }
      ],
      "source": [
        "#fila1 esercizio2 (1)\n",
        "multipli = [i for i in range(5,255,5)]\n",
        "print(multipli)"
      ]
    },
    {
      "cell_type": "code",
      "source": [
        "multipli2 = [i * 5 for i in range(1,51)]\n",
        "print(multipli2)"
      ],
      "metadata": {
        "id": "U8qn6uqBxOYM"
      },
      "execution_count": null,
      "outputs": []
    },
    {
      "cell_type": "code",
      "source": [
        "multipli3 = [i for i in range(5,255) if i % 5 == 0] \n",
        "print(multipli3)"
      ],
      "metadata": {
        "colab": {
          "base_uri": "https://localhost:8080/"
        },
        "id": "hH8qo9RtyG90",
        "outputId": "0e631f72-7bc1-4077-ecff-416ffcbecbcf"
      },
      "execution_count": null,
      "outputs": [
        {
          "output_type": "stream",
          "name": "stdout",
          "text": [
            "[5, 10, 15, 20, 25, 30, 35, 40, 45, 50, 55, 60, 65, 70, 75, 80, 85, 90, 95, 100, 105, 110, 115, 120, 125, 130, 135, 140, 145, 150, 155, 160, 165, 170, 175, 180, 185, 190, 195, 200, 205, 210, 215, 220, 225, 230, 235, 240, 245, 250]\n"
          ]
        }
      ]
    },
    {
      "cell_type": "markdown",
      "source": [
        "\n",
        "\n",
        "Caricare multipli di 10 \n",
        "\n",
        "\n"
      ],
      "metadata": {
        "id": "sFYpi1wiA8xy"
      }
    },
    {
      "cell_type": "code",
      "source": [
        "#fila1 esercizio2 (2)\n",
        "multipli10 = [mul for mul in multipli if mul % 10 == 0]\n",
        "print(multipli10)"
      ],
      "metadata": {
        "id": "U86JcBhIysGU",
        "colab": {
          "base_uri": "https://localhost:8080/"
        },
        "outputId": "92814c9f-6548-4ad1-ae86-4c737e0ce959"
      },
      "execution_count": null,
      "outputs": [
        {
          "output_type": "stream",
          "name": "stdout",
          "text": [
            "[10, 20, 30, 40, 50, 60, 70, 80, 90, 100, 110, 120, 130, 140, 150, 160, 170, 180, 190, 200, 210, 220, 230, 240, 250]\n"
          ]
        }
      ]
    },
    {
      "cell_type": "markdown",
      "source": [
        "3. Eliminare dalla seconda lista tutti i valori compresi fra 30 e 60"
      ],
      "metadata": {
        "id": "jfCTwbY_BDqq"
      }
    },
    {
      "cell_type": "code",
      "source": [
        "count = 0 \n",
        "for valore in multipli10:\n",
        "  if valore >= 30 and valore <= 60:\n",
        "    multipli10.remove(valore)\n",
        "    count+= 1\n",
        "print(multipli10)  "
      ],
      "metadata": {
        "id": "Khos289vBY9Y"
      },
      "execution_count": null,
      "outputs": []
    },
    {
      "cell_type": "markdown",
      "source": [
        "4. caricare in una nuova lista i 5 elementi centrali"
      ],
      "metadata": {
        "id": "nUXmLhSfDara"
      }
    },
    {
      "cell_type": "code",
      "source": [
        "multiplicentrali = []\n",
        "print(len(multipli10))\n",
        "multiplicentrali = (multipli10[len(multipli10)//2-2:len(multipli10)//2+3])\n",
        "print(multiplicentrali)"
      ],
      "metadata": {
        "colab": {
          "base_uri": "https://localhost:8080/"
        },
        "id": "lPChPlueDaf7",
        "outputId": "859e6315-63b5-4a3a-e465-a1dedb9f47ba"
      },
      "execution_count": null,
      "outputs": [
        {
          "output_type": "stream",
          "name": "stdout",
          "text": [
            "25\n",
            "[110, 120, 130, 140, 150]\n"
          ]
        }
      ]
    },
    {
      "cell_type": "markdown",
      "source": [
        "5. moltiplicare per 10 tutti i numeri della lista precedente "
      ],
      "metadata": {
        "id": "caNgJAbXFXT_"
      }
    },
    {
      "cell_type": "code",
      "source": [
        "prodotti = [numero* 10 for numero in multiplicentrali]\n",
        "print(prodotti)"
      ],
      "metadata": {
        "colab": {
          "base_uri": "https://localhost:8080/"
        },
        "id": "MDTB5xC6FuLP",
        "outputId": "21816b63-e060-44e9-f6c1-7a46cb025ac0"
      },
      "execution_count": null,
      "outputs": [
        {
          "output_type": "stream",
          "name": "stdout",
          "text": [
            "[1100, 1200, 1300, 1400, 1500]\n"
          ]
        }
      ]
    },
    {
      "cell_type": "markdown",
      "source": [
        "6. mettere in un'unica lista tutti i valori presenti nelle liste precedenti "
      ],
      "metadata": {
        "id": "aREFtu7CGBG-"
      }
    },
    {
      "cell_type": "code",
      "source": [
        "listaunica = multipli + multipli10 + multiplicentrali + prodotti\n",
        "print(listaunica)"
      ],
      "metadata": {
        "id": "Eh4h67HXGHcW"
      },
      "execution_count": null,
      "outputs": []
    },
    {
      "cell_type": "markdown",
      "source": [
        "esercizio1. verifica pari"
      ],
      "metadata": {
        "id": "UD1oLrdHHRau"
      }
    },
    {
      "cell_type": "code",
      "source": [
        "studenti = [\"papes\",\"bernasconi\",\"dipace\",\"geremicca\",\"neri\",\"fontana\",\"milella\",\"lotorto\",\"avasiloae\",\"d'arienzo\",\"leone\"]\n",
        "print(studenti)"
      ],
      "metadata": {
        "colab": {
          "base_uri": "https://localhost:8080/"
        },
        "id": "lemuQ_eTHe-A",
        "outputId": "af4aec82-2e95-4c50-83ca-ae97427077cd"
      },
      "execution_count": null,
      "outputs": [
        {
          "output_type": "stream",
          "name": "stdout",
          "text": [
            "['papes', 'bernasconi', 'dipace', 'geremicca', 'neri', 'fontana', 'milella', 'lotorto', 'avasiloae', \"d'arienzo\", 'leone']\n"
          ]
        }
      ]
    },
    {
      "cell_type": "markdown",
      "source": [
        "1. prendere lo studente in posizione 10 "
      ],
      "metadata": {
        "id": "h8UzqAuhINyG"
      }
    },
    {
      "cell_type": "code",
      "source": [
        "print(studenti[9])"
      ],
      "metadata": {
        "colab": {
          "base_uri": "https://localhost:8080/"
        },
        "id": "4HzGyixEISvO",
        "outputId": "0884ce67-1789-47c8-e663-0bdc23fce6ae"
      },
      "execution_count": null,
      "outputs": [
        {
          "output_type": "stream",
          "name": "stdout",
          "text": [
            "d'arienzo\n"
          ]
        }
      ]
    },
    {
      "cell_type": "markdown",
      "source": [
        "2. Visualizare i 5 studeti centrali"
      ],
      "metadata": {
        "id": "8a63AbPTIWc-"
      }
    },
    {
      "cell_type": "code",
      "source": [
        "studenticentrali = []\n",
        "studenticentrali = (studenti[len(studenti)//2-2:len(studenti)//2+3])\n",
        "print(studenticentrali)"
      ],
      "metadata": {
        "colab": {
          "base_uri": "https://localhost:8080/"
        },
        "id": "8q6PIVWtIhg_",
        "outputId": "95b52214-837e-42ef-cea6-f4708c9e5f8b"
      },
      "execution_count": null,
      "outputs": [
        {
          "output_type": "stream",
          "name": "stdout",
          "text": [
            "['geremicca', 'neri', 'fontana', 'milella', 'lotorto']\n"
          ]
        }
      ]
    },
    {
      "cell_type": "markdown",
      "source": [
        "3. Visualizzare i primi 10 studenti \n"
      ],
      "metadata": {
        "id": "1JFTpqnZIr-m"
      }
    },
    {
      "cell_type": "code",
      "source": [
        "print(studenti[:10])"
      ],
      "metadata": {
        "colab": {
          "base_uri": "https://localhost:8080/"
        },
        "id": "yesrFT-OIwyu",
        "outputId": "c1563a81-93b8-41da-9a23-b2ba2f13696d"
      },
      "execution_count": null,
      "outputs": [
        {
          "output_type": "stream",
          "name": "stdout",
          "text": [
            "['papes', 'bernasconi', 'dipace', 'geremicca', 'neri', 'fontana', 'milella', 'lotorto', 'avasiloae', \"d'arienzo\"]\n"
          ]
        }
      ]
    },
    {
      "cell_type": "markdown",
      "source": [
        "4. il docente di informatica deve interrogare uno studente"
      ],
      "metadata": {
        "id": "aZfpXG2YJFCp"
      }
    },
    {
      "cell_type": "code",
      "source": [
        "import random\n",
        "studenti[random.randint(0,len(studenti)-1)]"
      ],
      "metadata": {
        "colab": {
          "base_uri": "https://localhost:8080/",
          "height": 35
        },
        "id": "XM8oYEKEJKtm",
        "outputId": "48fc33bb-e3dc-4320-a6cc-1a4e131f3027"
      },
      "execution_count": null,
      "outputs": [
        {
          "output_type": "execute_result",
          "data": {
            "text/plain": [
              "'milella'"
            ],
            "application/vnd.google.colaboratory.intrinsic+json": {
              "type": "string"
            }
          },
          "metadata": {},
          "execution_count": 55
        }
      ]
    },
    {
      "cell_type": "markdown",
      "source": [
        "\n",
        "5. il docende di informatica deve interrogare 3 studenti casuali\n"
      ],
      "metadata": {
        "id": "jV2WrREYKfdm"
      }
    },
    {
      "cell_type": "code",
      "source": [
        "print(random.sample(studenti,3))"
      ],
      "metadata": {
        "colab": {
          "base_uri": "https://localhost:8080/"
        },
        "id": "5O2po-zuNme7",
        "outputId": "d4bd6af7-c68a-46da-96ae-bcb97067f256"
      },
      "execution_count": 95,
      "outputs": [
        {
          "output_type": "stream",
          "name": "stdout",
          "text": [
            "['lotorto', \"d'arienzo\", 'neri']\n"
          ]
        }
      ]
    },
    {
      "cell_type": "markdown",
      "source": [
        "6. aggiungi in coda all'elenco un alunno Grieco . dopo l'inserimento riordinare in ordine alfabetico"
      ],
      "metadata": {
        "id": "IAoMbj8BOibE"
      }
    },
    {
      "cell_type": "code",
      "source": [
        "studenti.append(\"Grieco\")\n",
        "studenti.sort()\n",
        "print(studenti) "
      ],
      "metadata": {
        "colab": {
          "base_uri": "https://localhost:8080/"
        },
        "id": "dT1y9DjEOpzr",
        "outputId": "c0b73985-d64e-41b7-9f9e-9a7ffa14ef5e"
      },
      "execution_count": 98,
      "outputs": [
        {
          "output_type": "stream",
          "name": "stdout",
          "text": [
            "['Grieco', 'avasiloae', 'bernasconi', \"d'arienzo\", 'dipace', 'fontana', 'geremicca', 'grieco', 'grieco', 'leone', 'lotorto', 'milella', 'neri', 'papes']\n"
          ]
        }
      ]
    },
    {
      "cell_type": "markdown",
      "source": [
        "Compito terminare la correzione delle verifiche fila pari e fila dispari"
      ],
      "metadata": {
        "id": "CER1pVMOP7FL"
      }
    }
  ]
}