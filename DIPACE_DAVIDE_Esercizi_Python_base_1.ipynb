{
  "nbformat": 4,
  "nbformat_minor": 0,
  "metadata": {
    "colab": {
      "provenance": [],
      "include_colab_link": true
    },
    "kernelspec": {
      "name": "python3",
      "display_name": "Python 3"
    },
    "language_info": {
      "name": "python"
    }
  },
  "cells": [
    {
      "cell_type": "markdown",
      "metadata": {
        "id": "view-in-github",
        "colab_type": "text"
      },
      "source": [
        "<a href=\"https://colab.research.google.com/github/DavideDipace/python/blob/main/DIPACE_DAVIDE_Esercizi_Python_base_1.ipynb\" target=\"_parent\"><img src=\"https://colab.research.google.com/assets/colab-badge.svg\" alt=\"Open In Colab\"/></a>"
      ]
    },
    {
      "cell_type": "markdown",
      "source": [
        "Scrivere al di sotto di ogni esercizio il codice richiesto. Al termine, consegnare su classroom il notebook realizzato."
      ],
      "metadata": {
        "id": "u24Wx-pXrz4j"
      }
    },
    {
      "cell_type": "markdown",
      "source": [
        "0. assegnare alle variabili x, y e z i valori 10, 20 e 30 in un'unica istruzione. Assegnare alle variabili a, b e c il valore 100 sempre in un'unica istruzione"
      ],
      "metadata": {
        "id": "ym0EsAfkyxmz"
      }
    },
    {
      "cell_type": "code",
      "source": [
        "x,y,z = 10,20,30 \n",
        "a=b=c=100\n",
        "print(a,b,c,x,y,z)"
      ],
      "metadata": {
        "id": "K6G4zgcCzAAz",
        "colab": {
          "base_uri": "https://localhost:8080/"
        },
        "outputId": "d1b22773-7bfc-4fe5-fca2-0c180be1967f"
      },
      "execution_count": 1,
      "outputs": [
        {
          "output_type": "stream",
          "name": "stdout",
          "text": [
            "100 100 100 10 20 30\n"
          ]
        }
      ]
    },
    {
      "cell_type": "markdown",
      "source": [
        "1. far inserire all'utente due numeri interi, scambiarli e visualizzarli"
      ],
      "metadata": {
        "id": "_w3ESGmCr7SL"
      }
    },
    {
      "cell_type": "code",
      "source": [
        "a=int(input(\"inserisci un numero intero 1: \"))\n",
        "b=int(input(\"inserisci un numero intero 2: \"))\n",
        "print(\"I valori inseriti sono:\", a, \" e : \", b)\n",
        "print(\"Adesso scambio i valori\")\n",
        "a,b=b,a\n",
        "print(\"I valori scambiati sono a:\", a, \" e b: \", b)"
      ],
      "metadata": {
        "id": "z5zHMYWlseti",
        "colab": {
          "base_uri": "https://localhost:8080/"
        },
        "outputId": "628a0dd1-14d4-493b-fdf7-6fc171804550"
      },
      "execution_count": 2,
      "outputs": [
        {
          "output_type": "stream",
          "name": "stdout",
          "text": [
            "inserisci un numero intero 1: 10\n",
            "inserisci un numero intero 2: 20\n",
            "I valori inseriti sono: 10  e :  20\n",
            "Adesso scambio i valori\n",
            "I valori scambiati sono a: 20  e b:  10\n"
          ]
        }
      ]
    },
    {
      "cell_type": "markdown",
      "source": [
        "2. far inserire all'utente due numeri e calcolare l' elevamento a potenza del primo per il secondo. Provare poi a vedere qualk è l amasisma potenza del 2 che Python riece a calcolare: lo smartphone è altrettanto potente?"
      ],
      "metadata": {
        "id": "dkojX3qusGJi"
      }
    },
    {
      "cell_type": "code",
      "source": [
        "a=int(input(\"inserire la base della potenza :\"))\n",
        "b=int(input(\"inserire l' esponente della potenza:\"))\n",
        "pow(a,b)"
      ],
      "metadata": {
        "id": "pYzftTyguOAc"
      },
      "execution_count": null,
      "outputs": []
    },
    {
      "cell_type": "markdown",
      "source": [
        "3. far inserire all'utente tre numeri e visualizzare il massimo dei tre"
      ],
      "metadata": {
        "id": "PYqK5w8yseCy"
      }
    },
    {
      "cell_type": "code",
      "source": [
        "a=int(input(\"inserire un numero :\"))   \n",
        "b=int(input(\"inserire un numero :\"))\n",
        "c=int(input(\"inserire un numero :\"))\n",
        "\n",
        "numeroMax=max(a,b,c)\n",
        "print(numeroMax)"
      ],
      "metadata": {
        "id": "pJSumYgPsmAb"
      },
      "execution_count": null,
      "outputs": []
    },
    {
      "cell_type": "markdown",
      "source": [
        "4. dati tre numeri, dire se con quei tre numeri possiamo costruire un triangolo"
      ],
      "metadata": {
        "id": "sJJHEnXXsmeL"
      }
    },
    {
      "cell_type": "code",
      "source": [
        "lato1=int(input(\"inserire il primo lato :\"))\n",
        "lato2=int(input(\"inserire il primo lato :\"))\n",
        "lato3=int(input(\"inserire il primo lato :\"))\n",
        "\n",
        "if (lato1+lato2>lato3) and (lato1+lato3>)"
      ],
      "metadata": {
        "id": "u6iI2qeosvlS"
      },
      "execution_count": null,
      "outputs": []
    },
    {
      "cell_type": "markdown",
      "source": [
        "5. far inserire dall'utente le misure di due cateti di un triangolo rettangolo (valori reali) e calcolare l'area del rettangolo e l'ipotenusa"
      ],
      "metadata": {
        "id": "zeDmm2t9sxER"
      }
    },
    {
      "cell_type": "code",
      "source": [
        "cateto1 = float(input(\"Inserisci il valore del primo cateto:\"))\n",
        "cateto2 = float(input(\"Inserisci il valore del secondo cateto:\"))\n",
        "from math import sqrt\n",
        "ipotenusa = sqrt( cateto1**2 + cateto2**2 )\n",
        "print(\"Ipotenusa =\", ipotenusa)\n",
        "area=(cateto1*cateto2)/2\n",
        "print(\"area =\",area)"
      ],
      "metadata": {
        "id": "MJ2jzq4PtSti"
      },
      "execution_count": null,
      "outputs": []
    },
    {
      "cell_type": "markdown",
      "source": [
        "6. far inserire un numero intero dall'utente e dire se è pari o dispari"
      ],
      "metadata": {
        "id": "64dgOKMRtTDq"
      }
    },
    {
      "cell_type": "code",
      "source": [
        "numero=int(input(\"inserire un numero :\"))\n",
        "\n",
        "if numero % 2 == 0:\n",
        "    print(\"pari\")\n",
        "if numero % 2 == 1:\n",
        "    print(\"dispari\")"
      ],
      "metadata": {
        "id": "W7fI6Ej8t8Z6"
      },
      "execution_count": null,
      "outputs": []
    },
    {
      "cell_type": "markdown",
      "source": [
        "7. far inserire all'utente il valore di una temperatura in gradi centigradi e convertirlo in gradi fahrenheit"
      ],
      "metadata": {
        "id": "V16n7CsCuUXC"
      }
    },
    {
      "cell_type": "code",
      "source": [
        "gradiC=int(input(\"inserire i gradi :\"))\n",
        "Coefficiente = 9.0 / 5.0\n",
        "gradiF = gradiC * Coefficiente + 32\n",
        "print(\"temperatura in gradi Fahrenheit è\", gradiF)\n"
      ],
      "metadata": {
        "id": "DUlV468iuhE7",
        "colab": {
          "base_uri": "https://localhost:8080/"
        },
        "outputId": "5e267a19-3211-491c-8081-48d20737134f"
      },
      "execution_count": null,
      "outputs": [
        {
          "output_type": "stream",
          "name": "stdout",
          "text": [
            "inserire un numero :32\n",
            "temperatura in gradi Fahrenheit è 89.6\n"
          ]
        }
      ]
    },
    {
      "cell_type": "markdown",
      "source": [
        "8. far inserire all'utente il valore di una temperatura in gradi fahrenheit e convertirlo in gradi centigradi"
      ],
      "metadata": {
        "id": "TRbh4pEwuher"
      }
    },
    {
      "cell_type": "code",
      "source": [
        "GradiF=float(input(\"inserire i gradi :\"))\n",
        "C = 9.0/5.0\n",
        "GradiC = GradiF / C - 32\n",
        "print(\"temperatura in gradi celsius è\", GradiC)"
      ],
      "metadata": {
        "id": "CNwCDAIFup-K"
      },
      "execution_count": null,
      "outputs": []
    },
    {
      "cell_type": "markdown",
      "source": [
        "9. far inserire all'utente una velocità in Km/h e visualizzare la stessa velocità in metri al secondo"
      ],
      "metadata": {
        "id": "YRjS88gtuqeC"
      }
    },
    {
      "cell_type": "code",
      "source": [],
      "metadata": {
        "id": "Wricx3yyx3tb"
      },
      "execution_count": null,
      "outputs": []
    },
    {
      "cell_type": "markdown",
      "source": [
        "10. far inserire all'utente il raggio di un cerchio e visualizzarne il diametro e l'area"
      ],
      "metadata": {
        "id": "ltgIq2OGx4I7"
      }
    },
    {
      "cell_type": "code",
      "source": [
        "\n",
        "raggio = int(input(\"inserire il raggio :\"))\n",
        "diametro = raggio * 2 \n",
        "area = 3.14 * raggio * raggio\n",
        "print(\"diametro :\", diametro \"area :\", area)"
      ],
      "metadata": {
        "id": "BpbAnnUOzjGD"
      },
      "execution_count": null,
      "outputs": []
    },
    {
      "cell_type": "markdown",
      "source": [
        "11. far inserire all'utente il suo nome e poi il suo cognome e visualizzare il suo cognome e il suo nome separati da uno spazio"
      ],
      "metadata": {
        "id": "M18Obb-Gzjdq"
      }
    },
    {
      "cell_type": "code",
      "source": [
        "\n",
        "nome = str(input(\"inserire il nome :\"))\n",
        "cognome = str(input(\"inserire il cognome :\"))\n",
        "\n",
        "print(nome, cognome)"
      ],
      "metadata": {
        "id": "w2C_ln0LzwPa",
        "colab": {
          "base_uri": "https://localhost:8080/"
        },
        "outputId": "a9480d1a-8355-4016-864c-45da23d86617"
      },
      "execution_count": 11,
      "outputs": [
        {
          "output_type": "stream",
          "name": "stdout",
          "text": [
            "inserire il nome :davide\n",
            "inserire il cognome :dipace\n",
            "davide dipace\n"
          ]
        }
      ]
    },
    {
      "cell_type": "markdown",
      "source": [
        "12. far inserire all'utente un numero e visualizzare il suo valore assoluto"
      ],
      "metadata": {
        "id": "BS9gBYBUzwp7"
      }
    },
    {
      "cell_type": "code",
      "source": [
        "num= int(input(\"inserire un numero :\"))\n",
        "modulo=abs(num)\n",
        "print(modulo)"
      ],
      "metadata": {
        "id": "KOZrphgUz89a"
      },
      "execution_count": null,
      "outputs": []
    },
    {
      "cell_type": "markdown",
      "source": [
        "13. far inserire all'utente un voto e controllare che sia compreso tra 1 e 10, estremi inclusi, Se è compreso visualizzare la stringa 'OK' altrimenti visualizzare la stringa 'KO'"
      ],
      "metadata": {
        "id": "j1tl_8INz9ZS"
      }
    },
    {
      "cell_type": "code",
      "source": [],
      "metadata": {
        "id": "7Cgqx9K20ccr"
      },
      "execution_count": null,
      "outputs": []
    },
    {
      "cell_type": "markdown",
      "source": [
        "14. far inserire all'utente due numeri e dire se uno è multiplo dell'altro. Ad esempio se l'utente inserisse i valori 60 e 15 il programma dovrebbe visualizzare la stringa '60 è un multiplo di 15'. Stessa cosa se l'utente inserisse prima il 15 e poi il 60., Se non sono multipli, visualizzare un messaggio appropriato"
      ],
      "metadata": {
        "id": "3PIY9PvH0c06"
      }
    },
    {
      "cell_type": "code",
      "source": [
        "n1=int(input(\"inserire un numero :\"))\n",
        "n2=int(input(\"inserire un numero :\"))\n",
        "if n1 % n2 == 0:\n",
        "  print(n1, \"è un multiplo di\", n2 )\n",
        "elif n2 % n1 == 0: \n",
        "  print(n2, \"è un multiplo di\", n1)\n",
        "else: \n",
        "  print(\"non sono multipli\")  "
      ],
      "metadata": {
        "id": "VS8xJJQZ1FfS"
      },
      "execution_count": null,
      "outputs": []
    },
    {
      "cell_type": "markdown",
      "source": [
        "15. far inserire all'utente la durata di un periodi di tempo in ore, minuti e secondi e convertirlo in secondi"
      ],
      "metadata": {
        "id": "444w9p761F7j"
      }
    },
    {
      "cell_type": "code",
      "source": [
        "ore = int(input(\"inserire ore :\"))\n",
        "minuti = int(input(\"inserire minuti :\"))\n",
        "secondi = int(input(\"inserire secondi :\"))\n",
        "seconditot = int(ore) * 3600 + int(minuti) * 60 + int(secondi)\n",
        "print(seconditot)"
      ],
      "metadata": {
        "id": "S0xfdzxW1ijl",
        "colab": {
          "base_uri": "https://localhost:8080/"
        },
        "outputId": "438a4634-92e9-4235-83e0-105bf1a1c524"
      },
      "execution_count": 16,
      "outputs": [
        {
          "output_type": "stream",
          "name": "stdout",
          "text": [
            "inserire ore :1\n",
            "inserire minuti :20\n",
            "inserire secondi :0\n",
            "4800\n"
          ]
        }
      ]
    },
    {
      "cell_type": "markdown",
      "source": [
        "16. far inserire all'utente la durata di un periodo in secondi e convertirlo in ore, minuti e secondi"
      ],
      "metadata": {
        "id": "3KaGzt4U1jA7"
      }
    },
    {
      "cell_type": "code",
      "source": [
        "inputsecondi = int(input(\"inserire i secondi :\"))\n",
        "ore = inputsecondi //3600\n",
        "secondiavanzati = inputsecondi % 3600\n",
        "minuti = secondiavanzati // 60\n",
        "secondiavanzati = secondiavanzati % 60  \n",
        "print(ore)\n",
        "print(minuti)\n",
        "print(secondiavanzati)\n"
      ],
      "metadata": {
        "id": "wAwF6xB-10YD",
        "colab": {
          "base_uri": "https://localhost:8080/"
        },
        "outputId": "f8fefe02-6091-4098-dadf-0af2202852e6"
      },
      "execution_count": 19,
      "outputs": [
        {
          "output_type": "stream",
          "name": "stdout",
          "text": [
            "inserire i secondi :3800\n",
            "1\n",
            "3\n",
            "20\n"
          ]
        }
      ]
    }
  ]
}