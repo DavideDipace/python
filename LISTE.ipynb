{
  "nbformat": 4,
  "nbformat_minor": 0,
  "metadata": {
    "colab": {
      "provenance": [],
      "authorship_tag": "ABX9TyOZZWIF1E5MpNAm2uW/SjLH",
      "include_colab_link": true
    },
    "kernelspec": {
      "name": "python3",
      "display_name": "Python 3"
    },
    "language_info": {
      "name": "python"
    }
  },
  "cells": [
    {
      "cell_type": "markdown",
      "metadata": {
        "id": "view-in-github",
        "colab_type": "text"
      },
      "source": [
        "<a href=\"https://colab.research.google.com/github/DavideDipace/python/blob/main/LISTE.ipynb\" target=\"_parent\"><img src=\"https://colab.research.google.com/assets/colab-badge.svg\" alt=\"Open In Colab\"/></a>"
      ]
    },
    {
      "cell_type": "markdown",
      "source": [
        "liste "
      ],
      "metadata": {
        "id": "wIHgARww2bwn"
      }
    },
    {
      "cell_type": "code",
      "execution_count": null,
      "metadata": {
        "id": "g9rZDW_N0SMF"
      },
      "outputs": [],
      "source": [
        "a = []"
      ]
    },
    {
      "cell_type": "code",
      "source": [
        "b = [1,2,3,4,5,6,7,8,9,10]\n",
        "print(b)\n"
      ],
      "metadata": {
        "colab": {
          "base_uri": "https://localhost:8080/"
        },
        "id": "g84SFudN2p7O",
        "outputId": "fda370d3-b425-43d7-f1f2-e65ee375fea6"
      },
      "execution_count": null,
      "outputs": [
        {
          "output_type": "stream",
          "name": "stdout",
          "text": [
            "[1, 2, 3, 4, 5, 6, 7, 8, 9, 10]\n"
          ]
        }
      ]
    },
    {
      "cell_type": "code",
      "source": [
        "type (b) "
      ],
      "metadata": {
        "colab": {
          "base_uri": "https://localhost:8080/"
        },
        "id": "_BM1Kvx03A9N",
        "outputId": "6b6c4241-53ad-4503-b8fb-24dc47dbbd2d"
      },
      "execution_count": null,
      "outputs": [
        {
          "output_type": "execute_result",
          "data": {
            "text/plain": [
              "list"
            ]
          },
          "metadata": {},
          "execution_count": 2
        }
      ]
    },
    {
      "cell_type": "code",
      "source": [
        "lista=[12,\"pippo\" ,37.92, \"pluto\",[\"qui\",[8,12,24], \"qua\"],58] \n",
        "print(lista[4][0])\n"
      ],
      "metadata": {
        "id": "31mAAJs23khF",
        "colab": {
          "base_uri": "https://localhost:8080/"
        },
        "outputId": "ee90d28d-99a6-46e9-9932-ff5e9a013183"
      },
      "execution_count": null,
      "outputs": [
        {
          "output_type": "stream",
          "name": "stdout",
          "text": [
            "qui\n"
          ]
        }
      ]
    },
    {
      "cell_type": "code",
      "source": [
        "lista1 = [1,2,3,4,5,6,7,8,9,10]\n",
        "print(lista1[-1]) #trova l'ultimo elemento della lista "
      ],
      "metadata": {
        "colab": {
          "base_uri": "https://localhost:8080/"
        },
        "id": "eL_Se0YN5xTV",
        "outputId": "72d7725f-7557-400e-a525-f3bcec9ac557"
      },
      "execution_count": null,
      "outputs": [
        {
          "output_type": "stream",
          "name": "stdout",
          "text": [
            "10\n"
          ]
        }
      ]
    },
    {
      "cell_type": "code",
      "source": [
        "#visualizzazione degli elementi da 3 a 6\n",
        "num = [0,1,2,3,4,5,6,7,8,9]\n",
        "print(num[3:7])\n",
        "#visualizzazione degli ultimi 5 elementi\n",
        "print(num[5:])\n",
        "#visuallizazione dei primi 5 elementi\n",
        "print(num[:5])\n",
        "#visualizzazione del penultimo e terzultimo numero \n",
        "print(num[-3:-1])\n",
        "#visualizzazione dei numeri di 2 in 2 \n",
        "print(num[3:9:2])\n",
        "#visualizzazione dei numeri dall'inizio alla fine a tre a tre \n",
        "print(num[::3])"
      ],
      "metadata": {
        "colab": {
          "base_uri": "https://localhost:8080/"
        },
        "id": "aYPZNeqF6kkX",
        "outputId": "d8355776-067f-4960-d5a2-461b0da861ee"
      },
      "execution_count": null,
      "outputs": [
        {
          "output_type": "stream",
          "name": "stdout",
          "text": [
            "[3, 4, 5, 6]\n",
            "[5, 6, 7, 8, 9]\n",
            "[0, 1, 2, 3, 4]\n",
            "[7, 8]\n",
            "[3, 5, 7]\n",
            "[0, 3, 6, 9]\n"
          ]
        }
      ]
    },
    {
      "cell_type": "code",
      "source": [
        "#controlla se un numero è presente nella variabie o no \n",
        "19 in num "
      ],
      "metadata": {
        "colab": {
          "base_uri": "https://localhost:8080/"
        },
        "id": "cI6NWwpS-DrC",
        "outputId": "9f6d0ab1-ce7f-43a4-aa30-bf781c81eb38"
      },
      "execution_count": null,
      "outputs": [
        {
          "output_type": "execute_result",
          "data": {
            "text/plain": [
              "False"
            ]
          },
          "metadata": {},
          "execution_count": 19
        }
      ]
    },
    {
      "cell_type": "code",
      "source": [
        "stringa = \"la mamma è bella\"\n",
        "print(stringa)\n",
        "lista = list(stringa)\n",
        "print(lista)"
      ],
      "metadata": {
        "colab": {
          "base_uri": "https://localhost:8080/"
        },
        "id": "pFK_zmEQ-cDN",
        "outputId": "b75600aa-5b1e-4a7a-97be-02da56f91cad"
      },
      "execution_count": null,
      "outputs": [
        {
          "output_type": "stream",
          "name": "stdout",
          "text": [
            "la mamma è bella\n",
            "['l', 'a', ' ', 'm', 'a', 'm', 'm', 'a', ' ', 'è', ' ', 'b', 'e', 'l', 'l', 'a']\n"
          ]
        }
      ]
    },
    {
      "cell_type": "code",
      "source": [
        "#aggiungere un numero alla lista\n",
        "lst = [1,2,3]\n",
        "lst.append(12)\n",
        "print(lst)\n",
        "lst.append([10,19])\n",
        "print(lst)\n",
        "#estendo la lista con dei numeri\n",
        "lst.extend([10,19])\n",
        "print(lst)"
      ],
      "metadata": {
        "colab": {
          "base_uri": "https://localhost:8080/"
        },
        "id": "2wwf_rZZ_ER9",
        "outputId": "550df4d8-e9f3-4604-ea0e-ac51d83a025b"
      },
      "execution_count": null,
      "outputs": [
        {
          "output_type": "stream",
          "name": "stdout",
          "text": [
            "[1, 2, 3, 12]\n",
            "[1, 2, 3, 12, [10, 19]]\n",
            "[1, 2, 3, 12, [10, 19], 10, 19]\n"
          ]
        }
      ]
    },
    {
      "cell_type": "markdown",
      "source": [
        "caricare in una lista i numeri 8 17 -5 4 76 9 2 "
      ],
      "metadata": {
        "id": "nwj6l8jjrHIr"
      }
    },
    {
      "cell_type": "code",
      "source": [
        "lista2 = [8, 17, -5, 4, 76, 9, 2]\n",
        "print(lista2)\n",
        "#visualizzazione primo elemento\n",
        "print(lista2[0])\n",
        "#visualizzare l'ultimo elemento \n",
        "print(lista2[-1])\n",
        "print(lista2[len(lista2)- 1 ])"
      ],
      "metadata": {
        "colab": {
          "base_uri": "https://localhost:8080/"
        },
        "id": "UJ2hoNvxrS5z",
        "outputId": "c36a69ed-9fc5-4a7c-d352-b9df70302a33"
      },
      "execution_count": null,
      "outputs": [
        {
          "output_type": "stream",
          "name": "stdout",
          "text": [
            "[8, 17, -5, 4, 76, 9, 2]\n",
            "8\n",
            "2\n",
            "2\n"
          ]
        }
      ]
    },
    {
      "cell_type": "code",
      "source": [
        "#aggiungere valori 7 8 4 9 alla lista\n",
        "lista2.extend([7,8,4,9])\n",
        "print(lista2)"
      ],
      "metadata": {
        "colab": {
          "base_uri": "https://localhost:8080/"
        },
        "id": "t5WUQnMZsxtr",
        "outputId": "f6da34b5-d8f8-48d1-ae97-917b8294a291"
      },
      "execution_count": null,
      "outputs": [
        {
          "output_type": "stream",
          "name": "stdout",
          "text": [
            "[-5, 2, 4, 4, 7, 8, 17, 76, 7, 8, 4, 9, 7, 8, 4, 9, 7, 8, 4, 9]\n"
          ]
        }
      ]
    },
    {
      "cell_type": "code",
      "source": [
        "#ordinare la lista in ordine crescente \n",
        "lista2.sort()\n",
        "print(lista2)\n",
        "#rimuovere un numero dalla lista \n",
        "print(lista2)\n",
        "lista2 = list(filter((1).__, lista2))\n",
        "print(lista2)"
      ],
      "metadata": {
        "colab": {
          "base_uri": "https://localhost:8080/"
        },
        "id": "L-Z9vnbBthla",
        "outputId": "e1ca4608-719d-45d0-c21e-4abd6c2a07d4"
      },
      "execution_count": null,
      "outputs": [
        {
          "output_type": "stream",
          "name": "stdout",
          "text": [
            "[-5, 2, 4, 4, 7, 8, 9, 17, 76]\n",
            "[-5, 2, 4, 4, 7, 8, 17, 76]\n",
            "[-5, 2, 4, 4, 7, 8, 17, 76]\n"
          ]
        }
      ]
    },
    {
      "cell_type": "code",
      "source": [
        "#contare il numero di volte che compare il 9 \n",
        "lista2.count(9)"
      ],
      "metadata": {
        "colab": {
          "base_uri": "https://localhost:8080/"
        },
        "id": "zYC7vKQfvwIb",
        "outputId": "26b44958-0d66-4186-efca-99696c98ae6e"
      },
      "execution_count": null,
      "outputs": [
        {
          "output_type": "execute_result",
          "data": {
            "text/plain": [
              "3"
            ]
          },
          "metadata": {},
          "execution_count": 21
        }
      ]
    },
    {
      "cell_type": "code",
      "source": [
        "print(lista2)\n",
        "#cercare l'indice del numero 8 \n",
        "lista2.index(8)"
      ],
      "metadata": {
        "colab": {
          "base_uri": "https://localhost:8080/"
        },
        "id": "uqm3-vX73Yk8",
        "outputId": "12a2cf77-ad07-49c6-b032-07295d213d1b"
      },
      "execution_count": null,
      "outputs": [
        {
          "output_type": "stream",
          "name": "stdout",
          "text": [
            "[-5, 2, 4, 4, 7, 8, 17, 76, 7, 8, 4, 9, 7, 8, 4, 9, 7, 8, 4, 9]\n"
          ]
        },
        {
          "output_type": "execute_result",
          "data": {
            "text/plain": [
              "5"
            ]
          },
          "metadata": {},
          "execution_count": 23
        }
      ]
    },
    {
      "cell_type": "code",
      "source": [
        "#inserire il valore 0 prima del numero 17\n",
        "lista2.insert((17),0)\n",
        "print(lista2)"
      ],
      "metadata": {
        "colab": {
          "base_uri": "https://localhost:8080/"
        },
        "id": "4kxoefkm32l0",
        "outputId": "d714dbd1-86fd-47bf-e19d-10504c74b814"
      },
      "execution_count": null,
      "outputs": [
        {
          "output_type": "stream",
          "name": "stdout",
          "text": [
            "[-5, 2, 4, 4, 7, 8, 17, 76, 7, 8, 4, 9, 7, 8, 4, 9, 7, 0, 8, 0, 0, 4, 9]\n"
          ]
        }
      ]
    },
    {
      "cell_type": "code",
      "source": [
        "#inserire il valore 0 prima del numero 17 \n",
        "lista2.insert(lista2.index(17)+1,0)\n",
        "print(lista2)"
      ],
      "metadata": {
        "colab": {
          "base_uri": "https://localhost:8080/"
        },
        "id": "BQGgmazU4mB6",
        "outputId": "ac379903-a47b-44c0-d3d5-f5a3bc484b98"
      },
      "execution_count": null,
      "outputs": [
        {
          "output_type": "stream",
          "name": "stdout",
          "text": [
            "[-5, 2, 4, 4, 7, 8, 17, 0, 0, 76, 7, 8, 4, 9, 7, 8, 4, 9, 7, 0, 8, 0, 0, 4, 9]\n"
          ]
        },
        {
          "output_type": "execute_result",
          "data": {
            "text/plain": [
              "9"
            ]
          },
          "metadata": {},
          "execution_count": 29
        }
      ]
    },
    {
      "cell_type": "code",
      "source": [
        "lista2.pop(5)\n",
        "print(lista2)"
      ],
      "metadata": {
        "colab": {
          "base_uri": "https://localhost:8080/"
        },
        "id": "9dVrQmr25PTC",
        "outputId": "d4a91d26-7912-44fd-ef95-2f5279f9b876"
      },
      "execution_count": null,
      "outputs": [
        {
          "output_type": "stream",
          "name": "stdout",
          "text": [
            "[-5, 2, 4, 4, 7, 0, 0, 76, 7, 8, 4, 9, 7, 8, 4, 9, 7, 0, 8, 0, 0, 4]\n"
          ]
        }
      ]
    },
    {
      "cell_type": "code",
      "source": [
        "del lista2[1]\n",
        "print(lista2)"
      ],
      "metadata": {
        "id": "69P08bGr6FJ6"
      },
      "execution_count": null,
      "outputs": []
    },
    {
      "cell_type": "code",
      "source": [
        "lista2.reverse()\n",
        "print(lista2)"
      ],
      "metadata": {
        "id": "ZQojqaCo6LCk"
      },
      "execution_count": null,
      "outputs": []
    },
    {
      "cell_type": "code",
      "source": [
        "b = [5,7,9,2]\n",
        "c = b\n",
        "print(c)\n",
        "print(b)"
      ],
      "metadata": {
        "colab": {
          "base_uri": "https://localhost:8080/"
        },
        "id": "ZU66JPnW6N2z",
        "outputId": "cf12e6b3-7379-40e7-e707-5a04b9fdbfca"
      },
      "execution_count": 22,
      "outputs": [
        {
          "output_type": "stream",
          "name": "stdout",
          "text": [
            "[5, 7, 9, 2]\n",
            "[5, 7, 9, 2]\n"
          ]
        }
      ]
    },
    {
      "cell_type": "code",
      "source": [
        "b.pop()\n",
        "print(b)\n",
        "print(c)"
      ],
      "metadata": {
        "colab": {
          "base_uri": "https://localhost:8080/"
        },
        "id": "EGw3YzNR6Y9S",
        "outputId": "c747aee3-331e-46b3-f64b-fd1aa01fee8b"
      },
      "execution_count": 23,
      "outputs": [
        {
          "output_type": "stream",
          "name": "stdout",
          "text": [
            "[5, 7, 9]\n",
            "[5, 7, 9]\n"
          ]
        }
      ]
    },
    {
      "cell_type": "markdown",
      "source": [
        "1.   inizzializzare una lista con i seguenti numeri 8,18,27,-8,51,40,-9-76\n",
        "2.   aggiungere infondo alla lista i valori 7,4,95\n",
        "3. aggiungere all'inizio della lista i valori 7,4,95\n",
        "4. visualizzare il numero di elementi della lista\n",
        "5. aggiungere in quarta posizione il valore 100 \n",
        "6. eliminare il terzultimo elemento della lista \n",
        "7. visualizzare il valore massimo e minimo della lista \n",
        "8. calcolare la somma degli elementi della lista \n",
        "9. calcolare la media degli elementi dalla lista \n",
        "10. rimuovere dalla lista il numero 7 \n",
        "11. ordinare la lista in ordine decrescente \n",
        "12. eliminare dalla lista il numero più alto e il numero più basso \n",
        "13. visualizzare gli elementi di posto pari \n",
        "14. visualizzre elementi di posto dispari \n",
        "15. visualizzare i primi 5 elementi \n",
        "16. visualizzare gli ultimi 5 elementi \n",
        "17. visualizzare i 5 elementi centrali\n",
        "18. rimuovere i duplicati presenti nella lista\n",
        "\n"
      ],
      "metadata": {
        "id": "EUBy6kFm7m6F"
      }
    },
    {
      "cell_type": "code",
      "source": [
        "#1\n",
        "d = [8,18,27,-8,51,40,-9-76]\n",
        "print(d)"
      ],
      "metadata": {
        "id": "rEkf3YNI9Ksy",
        "colab": {
          "base_uri": "https://localhost:8080/"
        },
        "outputId": "a199d445-1616-4aab-bdc2-b3370e81402b"
      },
      "execution_count": 3,
      "outputs": [
        {
          "output_type": "stream",
          "name": "stdout",
          "text": [
            "[8, 18, 27, -8, 51, 40, -85]\n"
          ]
        }
      ]
    },
    {
      "cell_type": "code",
      "source": [
        "#2\n",
        "d.extend([7,4,95])\n",
        "print(d)"
      ],
      "metadata": {
        "id": "WgPNh2-i9VKq"
      },
      "execution_count": null,
      "outputs": []
    },
    {
      "cell_type": "code",
      "source": [
        "#3 \n",
        "d.insert(7,4,95)\n",
        "print(d)"
      ],
      "metadata": {
        "id": "M3cA5tfv93jE"
      },
      "execution_count": null,
      "outputs": []
    },
    {
      "cell_type": "code",
      "source": [
        "#4\n",
        "d.count\n",
        "print(d)"
      ],
      "metadata": {
        "id": "62IO-GpL-nFe"
      },
      "execution_count": null,
      "outputs": []
    },
    {
      "cell_type": "code",
      "source": [
        "#5\n",
        "d.insert(3,100)\n",
        "print(d)"
      ],
      "metadata": {
        "colab": {
          "base_uri": "https://localhost:8080/"
        },
        "id": "FWXYdpphA2KT",
        "outputId": "2d5e8922-9528-4c2b-8998-0ba98426bea3"
      },
      "execution_count": null,
      "outputs": [
        {
          "output_type": "stream",
          "name": "stdout",
          "text": [
            "[8, 18, 27, 100, -8, 51, 40, -85]\n"
          ]
        }
      ]
    },
    {
      "cell_type": "code",
      "source": [
        "#6\n",
        "d.pop(-3)\n",
        "\n",
        "print(d)"
      ],
      "metadata": {
        "id": "P_kJpZn7Br90",
        "colab": {
          "base_uri": "https://localhost:8080/"
        },
        "outputId": "bbece560-1ee0-48ce-99ab-e1b21af36a07"
      },
      "execution_count": 9,
      "outputs": [
        {
          "output_type": "stream",
          "name": "stdout",
          "text": [
            "[51, 40, 27, 18, -8, -85]\n"
          ]
        }
      ]
    },
    {
      "cell_type": "code",
      "source": [
        "#7\n",
        "valore_min = min(d)\n",
        "valore_max = max(d)\n",
        "\n",
        "print(valore_min,valore_max)"
      ],
      "metadata": {
        "id": "jAvdAWztB8ZK",
        "colab": {
          "base_uri": "https://localhost:8080/"
        },
        "outputId": "dea3bf4c-671c-4f0e-f71f-fb9476271e6f"
      },
      "execution_count": 15,
      "outputs": [
        {
          "output_type": "stream",
          "name": "stdout",
          "text": [
            "-85 51\n"
          ]
        }
      ]
    },
    {
      "cell_type": "code",
      "source": [
        "#8\n",
        "somma_lista = sum(d)\n",
        "\n",
        "print(somma_lista)"
      ],
      "metadata": {
        "colab": {
          "base_uri": "https://localhost:8080/"
        },
        "id": "rWcRgcbFAAFl",
        "outputId": "163e99d9-608a-4c27-91db-94c251d965a8"
      },
      "execution_count": 14,
      "outputs": [
        {
          "output_type": "stream",
          "name": "stdout",
          "text": [
            "43\n"
          ]
        }
      ]
    },
    {
      "cell_type": "code",
      "source": [
        "#9\n",
        "from numpy import mean\n",
        "calcolo_media = mean(d)\n",
        "\n",
        "print(calcolo_media)"
      ],
      "metadata": {
        "colab": {
          "base_uri": "https://localhost:8080/"
        },
        "id": "xYHorp-RAeax",
        "outputId": "b8ea515f-66ea-42ca-9b78-e30812b1064a"
      },
      "execution_count": 17,
      "outputs": [
        {
          "output_type": "stream",
          "name": "stdout",
          "text": [
            "7.166666666666667\n"
          ]
        }
      ]
    },
    {
      "cell_type": "code",
      "source": [
        "#10\n",
        "d = list(filter((7).__ne__, d))\n",
        "print(d)"
      ],
      "metadata": {
        "id": "1AOh9td2DPgy"
      },
      "execution_count": null,
      "outputs": []
    },
    {
      "cell_type": "code",
      "source": [
        "#11 \n",
        "d.sort(reverse = True)\n",
        "\n",
        "print(d)"
      ],
      "metadata": {
        "colab": {
          "base_uri": "https://localhost:8080/"
        },
        "id": "gFBsW5sG7ieE",
        "outputId": "86ece5bf-5a00-463a-d104-a7afd9380977"
      },
      "execution_count": 8,
      "outputs": [
        {
          "output_type": "stream",
          "name": "stdout",
          "text": [
            "[51, 40, 27, 18, 8, -8, -85]\n"
          ]
        }
      ]
    },
    {
      "cell_type": "code",
      "source": [
        "#12 \n",
        "valore_min.remove()\n",
        "valore_max.remove()\n",
        "\n",
        "print(d)"
      ],
      "metadata": {
        "id": "MVQkvaz-BAmH"
      },
      "execution_count": null,
      "outputs": []
    },
    {
      "cell_type": "code",
      "source": [
        "#13 \n",
        "print(d[1::2])"
      ],
      "metadata": {
        "colab": {
          "base_uri": "https://localhost:8080/"
        },
        "id": "fZA8SLEzClVg",
        "outputId": "760759c5-c459-42e0-d11b-16016987adb1"
      },
      "execution_count": 30,
      "outputs": [
        {
          "output_type": "stream",
          "name": "stdout",
          "text": [
            "[40, 18, -85]\n"
          ]
        }
      ]
    },
    {
      "cell_type": "code",
      "source": [
        "#14\n",
        "print(d[::2])"
      ],
      "metadata": {
        "colab": {
          "base_uri": "https://localhost:8080/"
        },
        "id": "N9DJ8IR-Dl2H",
        "outputId": "e6513836-419f-4e4c-9dcf-1f4c93c5f403"
      },
      "execution_count": 31,
      "outputs": [
        {
          "output_type": "stream",
          "name": "stdout",
          "text": [
            "[51, 27, -8]\n"
          ]
        }
      ]
    },
    {
      "cell_type": "code",
      "source": [
        "#15\n",
        "print(d[:5])"
      ],
      "metadata": {
        "colab": {
          "base_uri": "https://localhost:8080/"
        },
        "id": "RSV8d8N4Drfv",
        "outputId": "7f285f5b-830d-4c0a-db7d-360ba23b97d9"
      },
      "execution_count": 37,
      "outputs": [
        {
          "output_type": "stream",
          "name": "stdout",
          "text": [
            "[51, 40, 27, 18, -8]\n"
          ]
        }
      ]
    },
    {
      "cell_type": "code",
      "source": [
        "#16\n",
        "print(d[5:])"
      ],
      "metadata": {
        "colab": {
          "base_uri": "https://localhost:8080/"
        },
        "id": "RpS9KeGoECj4",
        "outputId": "8bded615-98b8-4130-f407-4a1939374464"
      },
      "execution_count": 38,
      "outputs": [
        {
          "output_type": "stream",
          "name": "stdout",
          "text": [
            "[-85, 7, 4, 95, 7, 4, 95, 7, 4, 95]\n"
          ]
        }
      ]
    },
    {
      "cell_type": "code",
      "source": [
        "#17\n"
      ],
      "metadata": {
        "id": "eCzPH3DrEsMa"
      },
      "execution_count": null,
      "outputs": []
    },
    {
      "cell_type": "code",
      "source": [
        "#18\n"
      ],
      "metadata": {
        "id": "6UjKMKSuEu3c"
      },
      "execution_count": null,
      "outputs": []
    }
  ]
}